{
  "nbformat": 4,
  "nbformat_minor": 0,
  "metadata": {
    "colab": {
      "provenance": [],
      "authorship_tag": "ABX9TyPpdBfQEXHgVxwnv0SY5/SI",
      "include_colab_link": true
    },
    "kernelspec": {
      "name": "python3",
      "display_name": "Python 3"
    },
    "language_info": {
      "name": "python"
    }
  },
  "cells": [
    {
      "cell_type": "markdown",
      "metadata": {
        "id": "view-in-github",
        "colab_type": "text"
      },
      "source": [
        "<a href=\"https://colab.research.google.com/github/workingbetter/Machine_Learning/blob/main/Store_Performance_Classification.ipynb\" target=\"_parent\"><img src=\"https://colab.research.google.com/assets/colab-badge.svg\" alt=\"Open In Colab\"/></a>"
      ]
    },
    {
      "cell_type": "code",
      "execution_count": null,
      "metadata": {
        "id": "DU_2e66ubdq1"
      },
      "outputs": [],
      "source": []
    },
    {
      "cell_type": "markdown",
      "source": [
        "Store Performance Classification\n"
      ],
      "metadata": {
        "id": "1ufWTgMAbpRt"
      }
    },
    {
      "cell_type": "code",
      "source": [],
      "metadata": {
        "id": "fxQl0ix-bqZp"
      },
      "execution_count": null,
      "outputs": []
    }
  ]
}